{
  "nbformat": 4,
  "nbformat_minor": 0,
  "metadata": {
    "colab": {
      "provenance": [],
      "authorship_tag": "ABX9TyMJQqXjAhht/Wua3QkQzF5E",
      "include_colab_link": true
    },
    "kernelspec": {
      "name": "python3",
      "display_name": "Python 3"
    },
    "language_info": {
      "name": "python"
    }
  },
  "cells": [
    {
      "cell_type": "markdown",
      "metadata": {
        "id": "view-in-github",
        "colab_type": "text"
      },
      "source": [
        "<a href=\"https://colab.research.google.com/github/arunbungalowil/arunbungalowil/blob/main/Travel_Detail_Dataset.ipynb\" target=\"_parent\"><img src=\"https://colab.research.google.com/assets/colab-badge.svg\" alt=\"Open In Colab\"/></a>"
      ]
    },
    {
      "cell_type": "markdown",
      "source": [
        "#Report for Traveler Trip Dataset\n",
        "##Author: Arun Babu Nagathingal Thenamangalam\n",
        "##std.ID: 221AEM004"
      ],
      "metadata": {
        "id": "P6R4QjXcwzAj"
      }
    },
    {
      "cell_type": "markdown",
      "source": [
        "#Data Source\n",
        "**The Traveler Trip Dataset** is available on Kaggle. It is provided by rkiattisak and can be found at the following link: *https://www.kaggle.com/datasets/rkiattisak/traveler-trip-data*.\n",
        "\n",
        "The data is provided in a CSV (Comma Separated Values) format, which is a common data format that can be easily imported into various software tools and programming languages for analysis.\n",
        "\n",
        "The travel dataset offers comprehensive details on a variety of journeys undertaken by passengers, such as their destination, travel dates, length of the journey in days, traveler demographics (name, age, gender, and nationality), as well as the kind and cost of lodging and transportation.\n",
        "\n",
        "This information can be used to learn more about the preferences, travel habits, and patterns of various sorts of passengers. The development of custom marketing plans and vacation packages that take into account the requirements and preferences of various tourists can also be beneficial for businesses involved in the travel industry, such as travel agencies."
      ],
      "metadata": {
        "id": "JYaPnfx5xE1L"
      }
    },
    {
      "cell_type": "markdown",
      "source": [
        "#Contents\n",
        "\n",
        "Each row in the dataset represents the travel details of a single traveler. The dataset contains a total of 140 rows and 13 columns.\n",
        "\n",
        "By examining the contents of the dataset, we can get an idea of the demographics of the travelers, the destination, as well as the duration and budget of their travels. This information can be used for various types of analysis and modeling, such as predicting travel budgets based on various factors or identifying popular travel destinations for different age and gender groups.\n",
        "\n",
        "The columns in the CSV file are:\n",
        "*  Trip ID: A unique identifier for each trip, ranging from 1 to 140.\n",
        "*  Destination: The name of the Destination city or country visited by the traveler.\n",
        "* Start date: The starting date of the trip by traveler.\n",
        "*  End date: The end date of the trip.\n",
        "*  Duration:  The length of the trip in days.\n",
        "*  Traveler name: The name of the traveler.\n",
        "* Traveler age: The age of the traveler at the time of the trip.\n",
        "*  Traveler gender: The gender of the traveler, either \"Male\" or \"Female\".\n",
        "*  Traveler nationality: The nationality of the traveler, represented as a two-letter country code (such as \"US\" for United States, \"UK\" for United   Kingdom, etc.). \n",
        "*  Accommodation type: The type of accommodation the traveler stayed in, such as hotel, hostel, or Airbnb.\n",
        "*  Accommodation cost: The cost of the accommodation for the entire trip.\n",
        "*  Transportation type: The mode of transportation used by the traveler, such as plane, train, or car.\n",
        "*  Transportation cost: The total cost of transportation for the entire trip."
      ],
      "metadata": {
        "id": "TrHniY3Apdvr"
      }
    },
    {
      "cell_type": "markdown",
      "source": [
        "# Importing Libraries"
      ],
      "metadata": {
        "id": "rhK86DCn7iIL"
      }
    },
    {
      "cell_type": "code",
      "source": [
        "import numpy as np  # importing numpy library for numerical data manipulations\n",
        "import pandas as pd # importing pandas library\n",
        "import csv          # library for csv file processing\n",
        "import requests     # library for sending HTTP requests"
      ],
      "metadata": {
        "id": "7zqqvfQtkY1u"
      },
      "execution_count": 2,
      "outputs": []
    },
    {
      "cell_type": "markdown",
      "source": [
        "#Connecting to Google Drive"
      ],
      "metadata": {
        "id": "HhgT6zyE7p2Y"
      }
    },
    {
      "cell_type": "code",
      "source": [
        "from google.colab import drive\n",
        "drive.mount('/content/drive')\n",
        "data = pd.read_csv('/content/drive/My Drive/Travel details dataset.csv') "
      ],
      "metadata": {
        "colab": {
          "base_uri": "https://localhost:8080/"
        },
        "id": "gWltP3OVnp-c",
        "outputId": "9cd6a97b-9ff8-4a90-a37f-cbeb85b28d93"
      },
      "execution_count": 3,
      "outputs": [
        {
          "output_type": "stream",
          "name": "stdout",
          "text": [
            "Mounted at /content/drive\n"
          ]
        }
      ]
    },
    {
      "cell_type": "markdown",
      "source": [
        "# Output the list of column names"
      ],
      "metadata": {
        "id": "rankLDaO-J1X"
      }
    },
    {
      "cell_type": "code",
      "source": [
        "print(\"\\n Travl Trip Dataset Column Names: \\n\")\n",
        "data.columns"
      ],
      "metadata": {
        "colab": {
          "base_uri": "https://localhost:8080/"
        },
        "id": "EpoO2vfapDKR",
        "outputId": "0a5f779a-5164-4159-a703-0f49ac609aae"
      },
      "execution_count": 5,
      "outputs": [
        {
          "output_type": "stream",
          "name": "stdout",
          "text": [
            "\n",
            " Travl Trip Dataset Column Names: \n",
            "\n"
          ]
        },
        {
          "output_type": "execute_result",
          "data": {
            "text/plain": [
              "Index(['Trip ID', 'Destination', 'Start date', 'End date', 'Duration (days)',\n",
              "       'Traveler name', 'Traveler age', 'Traveler gender',\n",
              "       'Traveler nationality', 'Accommodation type', 'Accommodation cost',\n",
              "       'Transportation type', 'Transportation cost'],\n",
              "      dtype='object')"
            ]
          },
          "metadata": {},
          "execution_count": 5
        }
      ]
    },
    {
      "cell_type": "markdown",
      "source": [
        "# Output of the first 5 records"
      ],
      "metadata": {
        "id": "FHWq5zKq-Al_"
      }
    },
    {
      "cell_type": "code",
      "source": [
        "print(\"\\n Travl Trip Dataset First Five Records: \\n\")\n",
        "data.head()"
      ],
      "metadata": {
        "colab": {
          "base_uri": "https://localhost:8080/",
          "height": 358
        },
        "id": "Y-E6ZEy7rOul",
        "outputId": "65787205-4a66-436c-cf36-8b38019e0bdf"
      },
      "execution_count": 4,
      "outputs": [
        {
          "output_type": "stream",
          "name": "stdout",
          "text": [
            "\n",
            " Travl Trip Dataset First Five Records: \n",
            "\n"
          ]
        },
        {
          "output_type": "execute_result",
          "data": {
            "text/plain": [
              "   Trip ID       Destination Start date   End date  Duration (days)  \\\n",
              "0        1        London, UK   5/1/2023   5/8/2023              7.0   \n",
              "1        2  Phuket, Thailand  6/15/2023  6/20/2023              5.0   \n",
              "2        3   Bali, Indonesia   7/1/2023   7/8/2023              7.0   \n",
              "3        4     New York, USA  8/15/2023  8/29/2023             14.0   \n",
              "4        5      Tokyo, Japan  9/10/2023  9/17/2023              7.0   \n",
              "\n",
              "   Traveler name  Traveler age Traveler gender Traveler nationality  \\\n",
              "0     John Smith          35.0            Male             American   \n",
              "1       Jane Doe          28.0          Female             Canadian   \n",
              "2      David Lee          45.0            Male               Korean   \n",
              "3  Sarah Johnson          29.0          Female              British   \n",
              "4     Kim Nguyen          26.0          Female           Vietnamese   \n",
              "\n",
              "  Accommodation type Accommodation cost Transportation type  \\\n",
              "0              Hotel               1200              Flight   \n",
              "1             Resort                800              Flight   \n",
              "2              Villa               1000              Flight   \n",
              "3              Hotel               2000              Flight   \n",
              "4             Airbnb                700               Train   \n",
              "\n",
              "  Transportation cost  \n",
              "0                 600  \n",
              "1                 500  \n",
              "2                 700  \n",
              "3                1000  \n",
              "4                 200  "
            ],
            "text/html": [
              "\n",
              "  <div id=\"df-9411281e-e38a-4176-bb72-a833fdb90f32\">\n",
              "    <div class=\"colab-df-container\">\n",
              "      <div>\n",
              "<style scoped>\n",
              "    .dataframe tbody tr th:only-of-type {\n",
              "        vertical-align: middle;\n",
              "    }\n",
              "\n",
              "    .dataframe tbody tr th {\n",
              "        vertical-align: top;\n",
              "    }\n",
              "\n",
              "    .dataframe thead th {\n",
              "        text-align: right;\n",
              "    }\n",
              "</style>\n",
              "<table border=\"1\" class=\"dataframe\">\n",
              "  <thead>\n",
              "    <tr style=\"text-align: right;\">\n",
              "      <th></th>\n",
              "      <th>Trip ID</th>\n",
              "      <th>Destination</th>\n",
              "      <th>Start date</th>\n",
              "      <th>End date</th>\n",
              "      <th>Duration (days)</th>\n",
              "      <th>Traveler name</th>\n",
              "      <th>Traveler age</th>\n",
              "      <th>Traveler gender</th>\n",
              "      <th>Traveler nationality</th>\n",
              "      <th>Accommodation type</th>\n",
              "      <th>Accommodation cost</th>\n",
              "      <th>Transportation type</th>\n",
              "      <th>Transportation cost</th>\n",
              "    </tr>\n",
              "  </thead>\n",
              "  <tbody>\n",
              "    <tr>\n",
              "      <th>0</th>\n",
              "      <td>1</td>\n",
              "      <td>London, UK</td>\n",
              "      <td>5/1/2023</td>\n",
              "      <td>5/8/2023</td>\n",
              "      <td>7.0</td>\n",
              "      <td>John Smith</td>\n",
              "      <td>35.0</td>\n",
              "      <td>Male</td>\n",
              "      <td>American</td>\n",
              "      <td>Hotel</td>\n",
              "      <td>1200</td>\n",
              "      <td>Flight</td>\n",
              "      <td>600</td>\n",
              "    </tr>\n",
              "    <tr>\n",
              "      <th>1</th>\n",
              "      <td>2</td>\n",
              "      <td>Phuket, Thailand</td>\n",
              "      <td>6/15/2023</td>\n",
              "      <td>6/20/2023</td>\n",
              "      <td>5.0</td>\n",
              "      <td>Jane Doe</td>\n",
              "      <td>28.0</td>\n",
              "      <td>Female</td>\n",
              "      <td>Canadian</td>\n",
              "      <td>Resort</td>\n",
              "      <td>800</td>\n",
              "      <td>Flight</td>\n",
              "      <td>500</td>\n",
              "    </tr>\n",
              "    <tr>\n",
              "      <th>2</th>\n",
              "      <td>3</td>\n",
              "      <td>Bali, Indonesia</td>\n",
              "      <td>7/1/2023</td>\n",
              "      <td>7/8/2023</td>\n",
              "      <td>7.0</td>\n",
              "      <td>David Lee</td>\n",
              "      <td>45.0</td>\n",
              "      <td>Male</td>\n",
              "      <td>Korean</td>\n",
              "      <td>Villa</td>\n",
              "      <td>1000</td>\n",
              "      <td>Flight</td>\n",
              "      <td>700</td>\n",
              "    </tr>\n",
              "    <tr>\n",
              "      <th>3</th>\n",
              "      <td>4</td>\n",
              "      <td>New York, USA</td>\n",
              "      <td>8/15/2023</td>\n",
              "      <td>8/29/2023</td>\n",
              "      <td>14.0</td>\n",
              "      <td>Sarah Johnson</td>\n",
              "      <td>29.0</td>\n",
              "      <td>Female</td>\n",
              "      <td>British</td>\n",
              "      <td>Hotel</td>\n",
              "      <td>2000</td>\n",
              "      <td>Flight</td>\n",
              "      <td>1000</td>\n",
              "    </tr>\n",
              "    <tr>\n",
              "      <th>4</th>\n",
              "      <td>5</td>\n",
              "      <td>Tokyo, Japan</td>\n",
              "      <td>9/10/2023</td>\n",
              "      <td>9/17/2023</td>\n",
              "      <td>7.0</td>\n",
              "      <td>Kim Nguyen</td>\n",
              "      <td>26.0</td>\n",
              "      <td>Female</td>\n",
              "      <td>Vietnamese</td>\n",
              "      <td>Airbnb</td>\n",
              "      <td>700</td>\n",
              "      <td>Train</td>\n",
              "      <td>200</td>\n",
              "    </tr>\n",
              "  </tbody>\n",
              "</table>\n",
              "</div>\n",
              "      <button class=\"colab-df-convert\" onclick=\"convertToInteractive('df-9411281e-e38a-4176-bb72-a833fdb90f32')\"\n",
              "              title=\"Convert this dataframe to an interactive table.\"\n",
              "              style=\"display:none;\">\n",
              "        \n",
              "  <svg xmlns=\"http://www.w3.org/2000/svg\" height=\"24px\"viewBox=\"0 0 24 24\"\n",
              "       width=\"24px\">\n",
              "    <path d=\"M0 0h24v24H0V0z\" fill=\"none\"/>\n",
              "    <path d=\"M18.56 5.44l.94 2.06.94-2.06 2.06-.94-2.06-.94-.94-2.06-.94 2.06-2.06.94zm-11 1L8.5 8.5l.94-2.06 2.06-.94-2.06-.94L8.5 2.5l-.94 2.06-2.06.94zm10 10l.94 2.06.94-2.06 2.06-.94-2.06-.94-.94-2.06-.94 2.06-2.06.94z\"/><path d=\"M17.41 7.96l-1.37-1.37c-.4-.4-.92-.59-1.43-.59-.52 0-1.04.2-1.43.59L10.3 9.45l-7.72 7.72c-.78.78-.78 2.05 0 2.83L4 21.41c.39.39.9.59 1.41.59.51 0 1.02-.2 1.41-.59l7.78-7.78 2.81-2.81c.8-.78.8-2.07 0-2.86zM5.41 20L4 18.59l7.72-7.72 1.47 1.35L5.41 20z\"/>\n",
              "  </svg>\n",
              "      </button>\n",
              "      \n",
              "  <style>\n",
              "    .colab-df-container {\n",
              "      display:flex;\n",
              "      flex-wrap:wrap;\n",
              "      gap: 12px;\n",
              "    }\n",
              "\n",
              "    .colab-df-convert {\n",
              "      background-color: #E8F0FE;\n",
              "      border: none;\n",
              "      border-radius: 50%;\n",
              "      cursor: pointer;\n",
              "      display: none;\n",
              "      fill: #1967D2;\n",
              "      height: 32px;\n",
              "      padding: 0 0 0 0;\n",
              "      width: 32px;\n",
              "    }\n",
              "\n",
              "    .colab-df-convert:hover {\n",
              "      background-color: #E2EBFA;\n",
              "      box-shadow: 0px 1px 2px rgba(60, 64, 67, 0.3), 0px 1px 3px 1px rgba(60, 64, 67, 0.15);\n",
              "      fill: #174EA6;\n",
              "    }\n",
              "\n",
              "    [theme=dark] .colab-df-convert {\n",
              "      background-color: #3B4455;\n",
              "      fill: #D2E3FC;\n",
              "    }\n",
              "\n",
              "    [theme=dark] .colab-df-convert:hover {\n",
              "      background-color: #434B5C;\n",
              "      box-shadow: 0px 1px 3px 1px rgba(0, 0, 0, 0.15);\n",
              "      filter: drop-shadow(0px 1px 2px rgba(0, 0, 0, 0.3));\n",
              "      fill: #FFFFFF;\n",
              "    }\n",
              "  </style>\n",
              "\n",
              "      <script>\n",
              "        const buttonEl =\n",
              "          document.querySelector('#df-9411281e-e38a-4176-bb72-a833fdb90f32 button.colab-df-convert');\n",
              "        buttonEl.style.display =\n",
              "          google.colab.kernel.accessAllowed ? 'block' : 'none';\n",
              "\n",
              "        async function convertToInteractive(key) {\n",
              "          const element = document.querySelector('#df-9411281e-e38a-4176-bb72-a833fdb90f32');\n",
              "          const dataTable =\n",
              "            await google.colab.kernel.invokeFunction('convertToInteractive',\n",
              "                                                     [key], {});\n",
              "          if (!dataTable) return;\n",
              "\n",
              "          const docLinkHtml = 'Like what you see? Visit the ' +\n",
              "            '<a target=\"_blank\" href=https://colab.research.google.com/notebooks/data_table.ipynb>data table notebook</a>'\n",
              "            + ' to learn more about interactive tables.';\n",
              "          element.innerHTML = '';\n",
              "          dataTable['output_type'] = 'display_data';\n",
              "          await google.colab.output.renderOutput(dataTable, element);\n",
              "          const docLink = document.createElement('div');\n",
              "          docLink.innerHTML = docLinkHtml;\n",
              "          element.appendChild(docLink);\n",
              "        }\n",
              "      </script>\n",
              "    </div>\n",
              "  </div>\n",
              "  "
            ]
          },
          "metadata": {},
          "execution_count": 4
        }
      ]
    },
    {
      "cell_type": "markdown",
      "source": [
        "* We can see that the dataset contains information on the travel details of different travelers, including their user ID, gender,traveler name, age, travel destination, start and end date, travel duration, and travel budget and type,nationality, accommodation type, accommodation cost,."
      ],
      "metadata": {
        "id": "4exotEFkx2lK"
      }
    },
    {
      "cell_type": "markdown",
      "source": [
        "# Getting some initial statistics of the dataset\n",
        "The distribution of values for each column in the dataset using the **describe()** method:"
      ],
      "metadata": {
        "id": "EPyJJR1997Hf"
      }
    },
    {
      "cell_type": "code",
      "source": [
        "print(\"\\nDescription of Travl Trip Dataset: \\n\")\n",
        "data.describe()"
      ],
      "metadata": {
        "colab": {
          "base_uri": "https://localhost:8080/",
          "height": 356
        },
        "id": "xewhlS1ksCJb",
        "outputId": "3a17deed-b5d6-44d4-aecc-2a36a2349d8c"
      },
      "execution_count": 6,
      "outputs": [
        {
          "output_type": "stream",
          "name": "stdout",
          "text": [
            "\n",
            "Description of Travl Trip Dataset: \n",
            "\n"
          ]
        },
        {
          "output_type": "execute_result",
          "data": {
            "text/plain": [
              "          Trip ID  Duration (days)  Traveler age\n",
              "count  139.000000       137.000000    137.000000\n",
              "mean    70.000000         7.605839     33.175182\n",
              "std     40.269923         1.601276      7.145441\n",
              "min      1.000000         5.000000     20.000000\n",
              "25%     35.500000         7.000000     28.000000\n",
              "50%     70.000000         7.000000     31.000000\n",
              "75%    104.500000         8.000000     38.000000\n",
              "max    139.000000        14.000000     60.000000"
            ],
            "text/html": [
              "\n",
              "  <div id=\"df-93c48205-4b00-470e-86b3-df339d691248\">\n",
              "    <div class=\"colab-df-container\">\n",
              "      <div>\n",
              "<style scoped>\n",
              "    .dataframe tbody tr th:only-of-type {\n",
              "        vertical-align: middle;\n",
              "    }\n",
              "\n",
              "    .dataframe tbody tr th {\n",
              "        vertical-align: top;\n",
              "    }\n",
              "\n",
              "    .dataframe thead th {\n",
              "        text-align: right;\n",
              "    }\n",
              "</style>\n",
              "<table border=\"1\" class=\"dataframe\">\n",
              "  <thead>\n",
              "    <tr style=\"text-align: right;\">\n",
              "      <th></th>\n",
              "      <th>Trip ID</th>\n",
              "      <th>Duration (days)</th>\n",
              "      <th>Traveler age</th>\n",
              "    </tr>\n",
              "  </thead>\n",
              "  <tbody>\n",
              "    <tr>\n",
              "      <th>count</th>\n",
              "      <td>139.000000</td>\n",
              "      <td>137.000000</td>\n",
              "      <td>137.000000</td>\n",
              "    </tr>\n",
              "    <tr>\n",
              "      <th>mean</th>\n",
              "      <td>70.000000</td>\n",
              "      <td>7.605839</td>\n",
              "      <td>33.175182</td>\n",
              "    </tr>\n",
              "    <tr>\n",
              "      <th>std</th>\n",
              "      <td>40.269923</td>\n",
              "      <td>1.601276</td>\n",
              "      <td>7.145441</td>\n",
              "    </tr>\n",
              "    <tr>\n",
              "      <th>min</th>\n",
              "      <td>1.000000</td>\n",
              "      <td>5.000000</td>\n",
              "      <td>20.000000</td>\n",
              "    </tr>\n",
              "    <tr>\n",
              "      <th>25%</th>\n",
              "      <td>35.500000</td>\n",
              "      <td>7.000000</td>\n",
              "      <td>28.000000</td>\n",
              "    </tr>\n",
              "    <tr>\n",
              "      <th>50%</th>\n",
              "      <td>70.000000</td>\n",
              "      <td>7.000000</td>\n",
              "      <td>31.000000</td>\n",
              "    </tr>\n",
              "    <tr>\n",
              "      <th>75%</th>\n",
              "      <td>104.500000</td>\n",
              "      <td>8.000000</td>\n",
              "      <td>38.000000</td>\n",
              "    </tr>\n",
              "    <tr>\n",
              "      <th>max</th>\n",
              "      <td>139.000000</td>\n",
              "      <td>14.000000</td>\n",
              "      <td>60.000000</td>\n",
              "    </tr>\n",
              "  </tbody>\n",
              "</table>\n",
              "</div>\n",
              "      <button class=\"colab-df-convert\" onclick=\"convertToInteractive('df-93c48205-4b00-470e-86b3-df339d691248')\"\n",
              "              title=\"Convert this dataframe to an interactive table.\"\n",
              "              style=\"display:none;\">\n",
              "        \n",
              "  <svg xmlns=\"http://www.w3.org/2000/svg\" height=\"24px\"viewBox=\"0 0 24 24\"\n",
              "       width=\"24px\">\n",
              "    <path d=\"M0 0h24v24H0V0z\" fill=\"none\"/>\n",
              "    <path d=\"M18.56 5.44l.94 2.06.94-2.06 2.06-.94-2.06-.94-.94-2.06-.94 2.06-2.06.94zm-11 1L8.5 8.5l.94-2.06 2.06-.94-2.06-.94L8.5 2.5l-.94 2.06-2.06.94zm10 10l.94 2.06.94-2.06 2.06-.94-2.06-.94-.94-2.06-.94 2.06-2.06.94z\"/><path d=\"M17.41 7.96l-1.37-1.37c-.4-.4-.92-.59-1.43-.59-.52 0-1.04.2-1.43.59L10.3 9.45l-7.72 7.72c-.78.78-.78 2.05 0 2.83L4 21.41c.39.39.9.59 1.41.59.51 0 1.02-.2 1.41-.59l7.78-7.78 2.81-2.81c.8-.78.8-2.07 0-2.86zM5.41 20L4 18.59l7.72-7.72 1.47 1.35L5.41 20z\"/>\n",
              "  </svg>\n",
              "      </button>\n",
              "      \n",
              "  <style>\n",
              "    .colab-df-container {\n",
              "      display:flex;\n",
              "      flex-wrap:wrap;\n",
              "      gap: 12px;\n",
              "    }\n",
              "\n",
              "    .colab-df-convert {\n",
              "      background-color: #E8F0FE;\n",
              "      border: none;\n",
              "      border-radius: 50%;\n",
              "      cursor: pointer;\n",
              "      display: none;\n",
              "      fill: #1967D2;\n",
              "      height: 32px;\n",
              "      padding: 0 0 0 0;\n",
              "      width: 32px;\n",
              "    }\n",
              "\n",
              "    .colab-df-convert:hover {\n",
              "      background-color: #E2EBFA;\n",
              "      box-shadow: 0px 1px 2px rgba(60, 64, 67, 0.3), 0px 1px 3px 1px rgba(60, 64, 67, 0.15);\n",
              "      fill: #174EA6;\n",
              "    }\n",
              "\n",
              "    [theme=dark] .colab-df-convert {\n",
              "      background-color: #3B4455;\n",
              "      fill: #D2E3FC;\n",
              "    }\n",
              "\n",
              "    [theme=dark] .colab-df-convert:hover {\n",
              "      background-color: #434B5C;\n",
              "      box-shadow: 0px 1px 3px 1px rgba(0, 0, 0, 0.15);\n",
              "      filter: drop-shadow(0px 1px 2px rgba(0, 0, 0, 0.3));\n",
              "      fill: #FFFFFF;\n",
              "    }\n",
              "  </style>\n",
              "\n",
              "      <script>\n",
              "        const buttonEl =\n",
              "          document.querySelector('#df-93c48205-4b00-470e-86b3-df339d691248 button.colab-df-convert');\n",
              "        buttonEl.style.display =\n",
              "          google.colab.kernel.accessAllowed ? 'block' : 'none';\n",
              "\n",
              "        async function convertToInteractive(key) {\n",
              "          const element = document.querySelector('#df-93c48205-4b00-470e-86b3-df339d691248');\n",
              "          const dataTable =\n",
              "            await google.colab.kernel.invokeFunction('convertToInteractive',\n",
              "                                                     [key], {});\n",
              "          if (!dataTable) return;\n",
              "\n",
              "          const docLinkHtml = 'Like what you see? Visit the ' +\n",
              "            '<a target=\"_blank\" href=https://colab.research.google.com/notebooks/data_table.ipynb>data table notebook</a>'\n",
              "            + ' to learn more about interactive tables.';\n",
              "          element.innerHTML = '';\n",
              "          dataTable['output_type'] = 'display_data';\n",
              "          await google.colab.output.renderOutput(dataTable, element);\n",
              "          const docLink = document.createElement('div');\n",
              "          docLink.innerHTML = docLinkHtml;\n",
              "          element.appendChild(docLink);\n",
              "        }\n",
              "      </script>\n",
              "    </div>\n",
              "  </div>\n",
              "  "
            ]
          },
          "metadata": {},
          "execution_count": 6
        }
      ]
    },
    {
      "cell_type": "markdown",
      "source": [
        "# Getting data types of the dataset"
      ],
      "metadata": {
        "id": "hkDIleDv90C6"
      }
    },
    {
      "cell_type": "code",
      "source": [
        "print(\"\\nGetting Data Types of the Dataset:\\n\")\n",
        "data.dtypes "
      ],
      "metadata": {
        "colab": {
          "base_uri": "https://localhost:8080/"
        },
        "id": "2ZxFheNysC8Z",
        "outputId": "b985fd90-a376-472f-bc9a-e8ce2de77848"
      },
      "execution_count": 7,
      "outputs": [
        {
          "output_type": "stream",
          "name": "stdout",
          "text": [
            "\n",
            "Getting Data Types of the Dataset:\n",
            "\n"
          ]
        },
        {
          "output_type": "execute_result",
          "data": {
            "text/plain": [
              "Trip ID                   int64\n",
              "Destination              object\n",
              "Start date               object\n",
              "End date                 object\n",
              "Duration (days)         float64\n",
              "Traveler name            object\n",
              "Traveler age            float64\n",
              "Traveler gender          object\n",
              "Traveler nationality     object\n",
              "Accommodation type       object\n",
              "Accommodation cost       object\n",
              "Transportation type      object\n",
              "Transportation cost      object\n",
              "dtype: object"
            ]
          },
          "metadata": {},
          "execution_count": 7
        }
      ]
    },
    {
      "cell_type": "markdown",
      "source": [
        "# Plotting value distributions"
      ],
      "metadata": {
        "id": "zEoVQHrur1B0"
      }
    },
    {
      "cell_type": "code",
      "source": [
        "print(\"\\nTravel Trip Dataset plot \\n\")\n",
        "data.hist()"
      ],
      "metadata": {
        "colab": {
          "base_uri": "https://localhost:8080/",
          "height": 392
        },
        "id": "F6_s8204rQjO",
        "outputId": "322947ce-d548-4311-fa1b-cb2f3cfc8b1f"
      },
      "execution_count": 8,
      "outputs": [
        {
          "output_type": "stream",
          "name": "stdout",
          "text": [
            "\n",
            "Travel Trip Dataset plot \n",
            "\n"
          ]
        },
        {
          "output_type": "execute_result",
          "data": {
            "text/plain": [
              "array([[<Axes: title={'center': 'Trip ID'}>,\n",
              "        <Axes: title={'center': 'Duration (days)'}>],\n",
              "       [<Axes: title={'center': 'Traveler age'}>, <Axes: >]], dtype=object)"
            ]
          },
          "metadata": {},
          "execution_count": 8
        },
        {
          "output_type": "display_data",
          "data": {
            "text/plain": [
              "<Figure size 432x288 with 4 Axes>"
            ],
            "image/png": "[encoded data removed]"
          },
          "metadata": {
            "needs_background": "light"
          }
        }
      ]
    },
    {
      "cell_type": "markdown",
      "source": [
        "#Getting total number of rows of the data set"
      ],
      "metadata": {
        "id": "QMerfW2V-TIH"
      }
    },
    {
      "cell_type": "code",
      "source": [
        "print(\"Total Number of Rows are: \")\n",
        "data.shape[0]"
      ],
      "metadata": {
        "colab": {
          "base_uri": "https://localhost:8080/"
        },
        "id": "isbsSzXBt4yR",
        "outputId": "91d7d15f-f848-43f3-aced-e5aae638ad3b"
      },
      "execution_count": 9,
      "outputs": [
        {
          "output_type": "stream",
          "name": "stdout",
          "text": [
            "Total Number of Rows are: \n"
          ]
        },
        {
          "output_type": "execute_result",
          "data": {
            "text/plain": [
              "139"
            ]
          },
          "metadata": {},
          "execution_count": 9
        }
      ]
    },
    {
      "cell_type": "markdown",
      "source": [
        "# selecting rows with NaNs"
      ],
      "metadata": {
        "id": "3Fx6YqhHuLEh"
      }
    },
    {
      "cell_type": "code",
      "source": [
        "print(data[data.isna().any(axis=1)])"
      ],
      "metadata": {
        "colab": {
          "base_uri": "https://localhost:8080/"
        },
        "id": "QrzYRgPitRSA",
        "outputId": "16acf74f-cefc-4c7f-ecb1-dedce2707dbc"
      },
      "execution_count": 10,
      "outputs": [
        {
          "output_type": "stream",
          "name": "stdout",
          "text": [
            "     Trip ID  Destination Start date   End date  Duration (days)  \\\n",
            "71        72          NaN        NaN        NaN              NaN   \n",
            "82        83  Rome, Italy  4/15/2025  4/22/2025              7.0   \n",
            "127      128          NaN        NaN        NaN              NaN   \n",
            "\n",
            "    Traveler name  Traveler age Traveler gender Traveler nationality  \\\n",
            "71            NaN           NaN             NaN                  NaN   \n",
            "82      James Kim          41.0            Male             American   \n",
            "127           NaN           NaN             NaN                  NaN   \n",
            "\n",
            "    Accommodation type Accommodation cost Transportation type  \\\n",
            "71                 NaN                NaN                 NaN   \n",
            "82               Hotel                100                 NaN   \n",
            "127                NaN                NaN                 NaN   \n",
            "\n",
            "    Transportation cost  \n",
            "71                  NaN  \n",
            "82                  NaN  \n",
            "127                 NaN  \n"
          ]
        }
      ]
    },
    {
      "cell_type": "code",
      "source": [
        "data.dropna(inplace=True)"
      ],
      "metadata": {
        "id": "73BCf2Eoto34"
      },
      "execution_count": 11,
      "outputs": []
    },
    {
      "cell_type": "markdown",
      "source": [
        "#Getting total number of rows of the data set after removing the missing values"
      ],
      "metadata": {
        "id": "CezfaHgTt8u5"
      }
    },
    {
      "cell_type": "code",
      "source": [
        "print(\"Rows left: \",data.shape[0])"
      ],
      "metadata": {
        "colab": {
          "base_uri": "https://localhost:8080/"
        },
        "id": "eH6m8da1tuub",
        "outputId": "8fa412cf-76de-439a-fc9e-6921f29035ea"
      },
      "execution_count": 12,
      "outputs": [
        {
          "output_type": "stream",
          "name": "stdout",
          "text": [
            "Rows left:  136\n"
          ]
        }
      ]
    },
    {
      "cell_type": "code",
      "source": [
        "#meaningless plot\n",
        "data.plot()"
      ],
      "metadata": {
        "colab": {
          "base_uri": "https://localhost:8080/",
          "height": 283
        },
        "id": "k4iPtM8j6O__",
        "outputId": "3741b126-a6df-45dd-ce3c-c7c37da8a75d"
      },
      "execution_count": 13,
      "outputs": [
        {
          "output_type": "execute_result",
          "data": {
            "text/plain": [
              "<Axes: >"
            ]
          },
          "metadata": {},
          "execution_count": 13
        },
        {
          "output_type": "display_data",
          "data": {
            "text/plain": [
              "<Figure size 432x288 with 1 Axes>"
            ],
            "image/png": "[encoded data removed]"
          },
          "metadata": {
            "needs_background": "light"
          }
        }
      ]
    },
    {
      "cell_type": "code",
      "source": [
        "import matplotlib # importing data visualization and graphical plotting library\n",
        "import matplotlib.pyplot as plt #\n",
        "matplotlib.style.use('ggplot')\n",
        "import seaborn as sns"
      ],
      "metadata": {
        "id": "vOgvrf5_8idU"
      },
      "execution_count": 14,
      "outputs": []
    },
    {
      "cell_type": "markdown",
      "source": [
        "# Visualization of the dataset - 1"
      ],
      "metadata": {
        "id": "Sj6S9y5F72rI"
      }
    },
    {
      "cell_type": "markdown",
      "source": [
        "#Displying Travelers Nationality"
      ],
      "metadata": {
        "id": "FcvoryTe9J5c"
      }
    },
    {
      "cell_type": "code",
      "source": [
        "traveler_countries =  data.groupby('Traveler nationality')['Traveler nationality'].count()\n",
        "print(traveler_countries)"
      ],
      "metadata": {
        "colab": {
          "base_uri": "https://localhost:8080/"
        },
        "id": "mUAJo5SCYxl3",
        "outputId": "bda53ae2-26d2-429f-955d-7fcb02061782"
      },
      "execution_count": 15,
      "outputs": [
        {
          "output_type": "stream",
          "name": "stdout",
          "text": [
            "Traveler nationality\n",
            "American                23\n",
            "Australian               8\n",
            "Brazil                   1\n",
            "Brazilian                4\n",
            "British                 12\n",
            "Cambodia                 1\n",
            "Canada                   2\n",
            "Canadian                 9\n",
            "China                    1\n",
            "Chinese                  7\n",
            "Dutch                    2\n",
            "Emirati                  2\n",
            "French                   1\n",
            "German                   1\n",
            "Germany                  1\n",
            "Greece                   1\n",
            "Hong Kong                1\n",
            "Indian                   4\n",
            "Indonesian               1\n",
            "Italian                  4\n",
            "Italy                    1\n",
            "Japan                    1\n",
            "Japanese                 2\n",
            "Korean                  13\n",
            "Mexican                  2\n",
            "Moroccan                 1\n",
            "New Zealander            1\n",
            "Scottish                 1\n",
            "Singapore                1\n",
            "South African            2\n",
            "South Korea              3\n",
            "South Korean             3\n",
            "Spain                    1\n",
            "Spanish                  7\n",
            "Taiwan                   2\n",
            "Taiwanese                1\n",
            "UK                       1\n",
            "USA                      2\n",
            "United Arab Emirates     1\n",
            "United Kingdom           1\n",
            "Vietnamese               3\n",
            "Name: Traveler nationality, dtype: int64\n"
          ]
        }
      ]
    },
    {
      "cell_type": "code",
      "source": [
        "print(\"\\n Plotting Traveler Nationality\\n\")\n",
        "traveler_nationality = data['Traveler nationality'].value_counts()[:13] \n",
        "\n",
        "print(\"\\n Plot a bar chart of the Traveler Nationality\\n\")\n",
        "# Plot a bar chart of the Traveler Nationality\n",
        "traveler_nationality.plot.bar()\n",
        "\n",
        "# Set the title and axis labels\n",
        "plt.title('Traveler Nationality')\n",
        "plt.xlabel('Nationality')\n",
        "plt.ylabel('Number of People')\n",
        "\n",
        "# Display the graph\n",
        "plt.show()"
      ],
      "metadata": {
        "colab": {
          "base_uri": "https://localhost:8080/",
          "height": 467
        },
        "id": "7d_2qMkZ74ml",
        "outputId": "0975fa98-7e4c-45f7-8b09-c7f66a24caca"
      },
      "execution_count": 16,
      "outputs": [
        {
          "output_type": "stream",
          "name": "stdout",
          "text": [
            "\n",
            " Plotting Traveler Nationality\n",
            "\n",
            "\n",
            " Plot a bar chart of the Traveler Nationality\n",
            "\n"
          ]
        },
        {
          "output_type": "display_data",
          "data": {
            "text/plain": [
              "<Figure size 432x288 with 1 Axes>"
            ],
            "image/png": "[encoded data removed]"
          },
          "metadata": {}
        }
      ]
    },
    {
      "cell_type": "markdown",
      "source": [
        "# Visualization of the dataset - 2"
      ],
      "metadata": {
        "id": "Y4I49jlIa16n"
      }
    },
    {
      "cell_type": "markdown",
      "source": [
        "# Age Distribution by Gender Plot"
      ],
      "metadata": {
        "id": "mDN4riUQAKNE"
      }
    },
    {
      "cell_type": "code",
      "source": [
        "# Separate data by gender\n",
        "male_age = data[data[\"Traveler gender\"] == \"Male\"][\"Traveler age\"]\n",
        "female_age = data[data[\"Traveler gender\"] == \"Female\"][\"Traveler age\"]\n",
        "\n",
        "print(\"\\nPlot Age Distribution by Gender: \\n\")\n",
        "print(\"\\nPlot histograms: \\n\")\n",
        "# Plot histograms\n",
        "plt.hist(male_age, alpha=0.5, label=\"Male\")\n",
        "plt.hist(female_age, alpha=0.5, label=\"Female\")\n",
        "plt.xlabel(\"Age\")\n",
        "plt.ylabel(\"Count\")\n",
        "plt.title(\"Age Distribution by Gender\")\n",
        "plt.legend()\n",
        "plt.show()\n"
      ],
      "metadata": {
        "colab": {
          "base_uri": "https://localhost:8080/",
          "height": 410
        },
        "id": "TFh0OFTp_kgw",
        "outputId": "d761e087-aefc-4834-e11f-be3d985e6d39"
      },
      "execution_count": 17,
      "outputs": [
        {
          "output_type": "stream",
          "name": "stdout",
          "text": [
            "\n",
            "Plot Age Distribution by Gender: \n",
            "\n",
            "\n",
            "Plot histograms: \n",
            "\n"
          ]
        },
        {
          "output_type": "display_data",
          "data": {
            "text/plain": [
              "<Figure size 432x288 with 1 Axes>"
            ],
            "image/png": "[encoded data removed]"
          },
          "metadata": {}
        }
      ]
    },
    {
      "cell_type": "markdown",
      "source": [
        "# Visualization of the dataset - 3"
      ],
      "metadata": {
        "id": "2M6_gtyRa5G4"
      }
    },
    {
      "cell_type": "markdown",
      "source": [
        "#  Accommodation Types Plot"
      ],
      "metadata": {
        "id": "xkY0gq85cLOK"
      }
    },
    {
      "cell_type": "code",
      "source": [
        "# Count the number of trips per accommodation type\n",
        "accomodations_counts = data['Accommodation type'].value_counts()[:5]\n",
        "\n",
        "labels = accomodations_counts.index.tolist()\n",
        "sizes = accomodations_counts.tolist()\n",
        "\n",
        "\n",
        "print(\"\\nCount the number of trips per accommodation type:\\n\")\n",
        "print(\"\\nPlotting Pie Chart:\\n\")\n",
        "\n",
        "fig, ax = plt.subplots()\n",
        "ax.pie(sizes, labels=labels)\n",
        "plt.axis('equal')\n",
        "plt.title('Accommodation Types')\n",
        "plt.show()"
      ],
      "metadata": {
        "colab": {
          "base_uri": "https://localhost:8080/",
          "height": 380
        },
        "id": "qyWGSli8BA2Y",
        "outputId": "4026fe3c-e0fe-4cd4-9991-f119b4bd06b6"
      },
      "execution_count": 18,
      "outputs": [
        {
          "output_type": "stream",
          "name": "stdout",
          "text": [
            "\n",
            "Count the number of trips per accommodation type:\n",
            "\n",
            "\n",
            "Plotting Pie Chart:\n",
            "\n"
          ]
        },
        {
          "output_type": "display_data",
          "data": {
            "text/plain": [
              "<Figure size 432x288 with 1 Axes>"
            ],
            "image/png": "[encoded data removed]"
          },
          "metadata": {}
        }
      ]
    },
    {
      "cell_type": "markdown",
      "source": [
        "# Visualization of the dataset - 4"
      ],
      "metadata": {
        "id": "pfoz6o3RbVtm"
      }
    },
    {
      "cell_type": "markdown",
      "source": [
        "#Traveler age vs Duration Scatter Plot"
      ],
      "metadata": {
        "id": "NzXuuawxcTiU"
      }
    },
    {
      "cell_type": "code",
      "source": [
        "print(\"\\nPlotting Scattered Plot:\\n\")\n",
        "\n",
        "# Plot scatter plot\n",
        "sns.scatterplot(data=data, x=\"Duration (days)\", y=\"Traveler age\", hue=\"Destination\")\n",
        "plt.title(\"Traveler age vs Duration Scatter Plot\")\n",
        "plt.show()\n"
      ],
      "metadata": {
        "colab": {
          "base_uri": "https://localhost:8080/",
          "height": 1000
        },
        "id": "wUuF43d5C0mN",
        "outputId": "2d841468-f1d1-48a6-f4ff-fd8fb7e01b04"
      },
      "execution_count": 19,
      "outputs": [
        {
          "output_type": "stream",
          "name": "stdout",
          "text": [
            "\n",
            "Plotting Scattered Plot:\n",
            "\n"
          ]
        },
        {
          "output_type": "display_data",
          "data": {
            "text/plain": [
              "<Figure size 432x288 with 1 Axes>"
            ],
            "image/png": "[encoded data removed]"
          },
          "metadata": {}
        }
      ]
    },
    {
      "cell_type": "markdown",
      "source": [
        "#Conclusion\n",
        "* The \"Traveler Trip Data\" dataset provides information about various trips taken by travelers. The dataset contains 13 columns with information such as the gender and age range of the traveler, the destination, duration of trips in days, accommodation type and accommodation cost.\n",
        "\n",
        "* One potential use of this dataset is to analyze trends in travel behavior and preferences. For example, it could be interesting to see how long travelers spend days in their destination, or whether there are differences in travel behavior between different age ranges or genders.\n",
        "\n",
        "* The dataset could be used for various types of analysis, such as identifying popular travel destinations, analyzing the travel patterns of different age and gender groups, and predicting travel budgets based on various factors such as travel duration.\n",
        "\n",
        "* The dataset appears to be relatively clean and well-organized, with no obvious errors, even though the dataset had missing values in some rows those values are removed for the further analysis.In terms of analysis, there are several statistical models that could be applied to this dataset, depending on the specific research questions being asked.\n",
        "\n",
        "* In terms of suggested models, we could use linear regression or decision tree algorithms to predict travel budgets based on various factors. However, further feature engineering and data preprocessing may be required to improve the accuracy of the models.\n",
        "\n",
        "* Overall, the Traveler Trip Dataset is a useful resource for analyzing the travel behavior of travelers and can provide valuable insights for the travel industry.\n"
      ],
      "metadata": {
        "id": "852M3nol-kXo"
      }
    },
    {
      "cell_type": "markdown",
      "source": [
        "#References\n",
        "\n",
        "1. https://matplotlib.org/stable/plot_types/index.html : overview of different types of plots.\n",
        " \n",
        "2. https://www.kaggle.com/datasets/rkiattisak/traveler-trip-data/code : Dataset for this practical work is took from here."
      ],
      "metadata": {
        "id": "tMyCX9c8D5Ul"
      }
    }
  ]
}